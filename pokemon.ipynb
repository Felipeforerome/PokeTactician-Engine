{
 "cells": [
  {
   "cell_type": "code",
   "execution_count": 1,
   "metadata": {},
   "outputs": [],
   "source": [
    "import pandas as pd\n",
    "import requests\n",
    "from bs4 import BeautifulSoup\n",
    "from io import StringIO\n",
    "from functools import reduce\n",
    "import operator"
   ]
  },
  {
   "cell_type": "markdown",
   "metadata": {},
   "source": [
    "## Retrieve Data from Bulbapedia"
   ]
  },
  {
   "cell_type": "code",
   "execution_count": 2,
   "metadata": {},
   "outputs": [],
   "source": [
    "url = \"https://bulbapedia.bulbagarden.net/wiki/List_of_Pok%C3%A9mon_by_availability\"\n",
    "response = requests.get(url)\n",
    "soup = BeautifulSoup(response.text, 'html.parser')"
   ]
  },
  {
   "cell_type": "code",
   "execution_count": 3,
   "metadata": {},
   "outputs": [],
   "source": [
    "tables = soup.find_all('table', {'class': 'roundy'})"
   ]
  },
  {
   "cell_type": "code",
   "execution_count": 4,
   "metadata": {},
   "outputs": [],
   "source": [
    "generation_dataframes = {}\n",
    "for i, table in enumerate(tables):\n",
    "    table_string = str(table)\n",
    "    generation_dataframes[i] = pd.read_html(StringIO(table_string))[0]\n",
    "\n",
    "# This table has a couple extra columns that we don't need\n",
    "generation_dataframes[7] = generation_dataframes[7].drop(columns=[('Game', 'Unnamed: 12_level_1'),\n",
    "            ('Game', 'Unnamed: 13_level_1')], axis=1)"
   ]
  },
  {
   "cell_type": "code",
   "execution_count": 5,
   "metadata": {},
   "outputs": [
    {
     "name": "stderr",
     "output_type": "stream",
     "text": [
      "/var/folders/67/9rpqzr212xbc567t79k0w7580000gn/T/ipykernel_67115/2615835790.py:5: FutureWarning: The behavior of pd.concat with len(keys) != len(objs) is deprecated. In a future version this will raise instead of truncating to the smaller of the two sequences\n",
      "  merged_df = pd.concat(dfs, axis=0, join='outer', keys=list(generation_dataframes.keys()), sort=False).fillna('—')\n"
     ]
    }
   ],
   "source": [
    "# Assuming `generation_dataframes` is your dictionary of dataframes\n",
    "dfs = list(generation_dataframes.values())\n",
    "legend = dfs.pop(0)\n",
    "# Join the dataframes vertically and fill missing columns with NA\n",
    "merged_df = pd.concat(dfs, axis=0, join='outer', keys=list(generation_dataframes.keys()), sort=False).fillna('—')"
   ]
  },
  {
   "cell_type": "code",
   "execution_count": 6,
   "metadata": {},
   "outputs": [
    {
     "name": "stderr",
     "output_type": "stream",
     "text": [
      "/var/folders/67/9rpqzr212xbc567t79k0w7580000gn/T/ipykernel_67115/3039264149.py:35: PerformanceWarning: dropping on a non-lexsorted multi-index without a level parameter may impact performance.\n",
      "  df.drop(columns='Icon', inplace=True)\n"
     ]
    }
   ],
   "source": [
    "new_column_names = ['Red', 'Green', 'Blue', 'Yellow', 'Gold', 'Silver', 'Crystal', 'Ruby', 'Sapphire', 'FireRed', 'LeafGreen', 'Emerald', 'Colosseum', 'XD', 'Diamond', 'Pearl', 'Platinum', 'HeartGold', 'SoulSilver', 'Black', 'White', 'Black 2', 'White 2', 'X', 'Y', 'Omega Ruby', 'Alpha Sapphire', 'Sun', 'Moon', 'Ultra Sun', 'Ultra Moon', \"Let's Go, Pikachu!\", \"Let's Go, Eevee!\", 'Sword', 'Shield', 'Brilliant Diamond', 'Shining Pearl', 'Legends: Arceus', 'Scarlet', 'Violet']\n",
    "\n",
    "\n",
    "# Assuming `df` is your DataFrame\n",
    "df = merged_df\n",
    "\n",
    "# Step 1: Extract current MultiIndex levels and labels\n",
    "current_levels = df.columns.levels\n",
    "current_labels = df.columns.get_level_values(0).tolist()\n",
    "\n",
    "\n",
    "# Step 2 & 3: Create a mapping for generations and their subcategories\n",
    "generation_mapping = {}\n",
    "for col in df.columns:\n",
    "    if col[0] == 'Game':\n",
    "        main_generation = col[1].split('.')[0]  # Extract main generation\n",
    "        if main_generation not in generation_mapping:\n",
    "            generation_mapping[main_generation] = []\n",
    "        generation_mapping[main_generation].append(col[1])\n",
    "\n",
    "# Step 4: Create new MultiIndex including the new generation level\n",
    "new_columns = []\n",
    "for col in df.columns:\n",
    "    if col[0] == 'Game':\n",
    "        main_generation = col[1].split('.')[0]\n",
    "        new_columns.append(('Game', main_generation, new_column_names.pop(0)))\n",
    "    else:\n",
    "        new_columns.append((col[0], '', col[1]))  # Keep other columns unchanged\n",
    "\n",
    "# Convert list of tuples to MultiIndex\n",
    "new_multiindex = pd.MultiIndex.from_tuples(new_columns, names=['Category', 'Generation', 'Subcategory'])\n",
    "\n",
    "# Step 5: Assign the new MultiIndex to the DataFrame\n",
    "df.columns = new_multiindex\n",
    "df.drop(columns='Icon', inplace=True)\n"
   ]
  },
  {
   "cell_type": "code",
   "execution_count": 7,
   "metadata": {
    "vscode": {
     "languageId": "javascript"
    }
   },
   "outputs": [],
   "source": [
    "legend = legend.droplevel(1, axis=1).drop(index=11)\n",
    "legend['Availability'] = [1 if i < 11 or i == 18 else 0 for i in range(len(legend))]"
   ]
  },
  {
   "cell_type": "code",
   "execution_count": 8,
   "metadata": {},
   "outputs": [],
   "source": [
    "def process_symbols(input_string):\n",
    "    # Define the vectors based on the description\n",
    "    unique = {\"PW\", \"DR\", \"DW\", \"FS\", \"DA\", \"EV\", \"Ev\", \"CD\"}  # Multi-character unique symbols without 'CC'\n",
    "    both = {\"C\", \"D\", \"E\", \"T\", \"S\", \"R\", \"T\", \"B\", \"—\"}  # Common between certain groups\n",
    "    suffix_list = [\"E\", \"B\", \"D\", \"T\"]  # Order matters here\n",
    "    all_symbols = sorted(unique | both | set(suffix_list) | {\"CC\"})  # All unique symbols sorted for index retrieval\n",
    "\n",
    "    # Initialize result list\n",
    "    results = []\n",
    "    split = []\n",
    "    i = 0  # To keep track of the index in the input_string\n",
    "\n",
    "    # Handle \"CC\" prefix only at the start of the string\n",
    "    if input_string.startswith(\"—\"):\n",
    "        results.append(legend[legend[\"Symbol\"]==\"—\"].index[0])  # Add index of \"CC\"\n",
    "        split.append([\"—\"])  # Add \"-\" to the split list\n",
    "        i += 1  # Skip the \"-\" at the beginning\n",
    "    elif input_string.startswith(\"CC\"):\n",
    "        results.append(legend[legend[\"Symbol\"]==\"CC\"].index[0])  # Add index of \"CC\"\n",
    "        split.append([\"CC\"])  # Add \"CC\" to the split list\n",
    "        i += 2  # Skip the \"CC\" at the beginning\n",
    "    # Iterate over each remaining character in the input string\n",
    "    while i < len(input_string):\n",
    "        # Check for two-character unique symbols first\n",
    "        if i < len(input_string) - 1:\n",
    "            two_char_symbol = input_string[i:i+2]\n",
    "            if two_char_symbol in unique:\n",
    "                results.append(legend[legend[\"Symbol\"]==two_char_symbol].index[0])\n",
    "                split.append([two_char_symbol])\n",
    "                i += 2  # Move past this two-character symbol\n",
    "                continue\n",
    "\n",
    "        # Single character processing\n",
    "        if input_string[i] in both or input_string[i] in suffix_list:\n",
    "            results.append(legend[legend[\"Symbol\"]==input_string[i]].index[0])\n",
    "            split.append([input_string[i]])   \n",
    "\n",
    "        i += 1  # Move to the next character\n",
    "\n",
    "    return results,split\n"
   ]
  },
  {
   "cell_type": "code",
   "execution_count": 9,
   "metadata": {},
   "outputs": [],
   "source": [
    "from copy import deepcopy\n",
    "\n",
    "df_ = deepcopy(df)\n",
    "del df\n",
    "for column in df_.columns[2:]:\n",
    "    for index, row in df_.iterrows():\n",
    "        df_.at[index, column], _ = process_symbols(row[column])\n"
   ]
  },
  {
   "cell_type": "code",
   "execution_count": 10,
   "metadata": {},
   "outputs": [
    {
     "name": "stdout",
     "output_type": "stream",
     "text": [
      "Result for 'CCDREV': [8, 13, 10] - Split: [['CC'], ['DR'], ['EV']]\n",
      "Result for 'CCSDWEV': [8, 1, 14, 10] - Split: [['CC'], ['S'], ['DW'], ['EV']]\n",
      "Result for '—': [18] - Split: [['—']]\n",
      "Result for 'CCT': [8, 17] - Split: [['CC'], ['T']]\n"
     ]
    }
   ],
   "source": [
    "# Example use\n",
    "input_string = \"CCDREV\"\n",
    "result, split = process_symbols(input_string)\n",
    "print(f\"Result for '{input_string}': {result} - Split: {split}\")\n",
    "\n",
    "input_string = \"CCSDWEV\"\n",
    "result, split = process_symbols(input_string)\n",
    "print(f\"Result for '{input_string}': {result} - Split: {split}\")\n",
    "\n",
    "input_string = \"—\"\n",
    "result, split = process_symbols(input_string)\n",
    "print(f\"Result for '{input_string}': {result} - Split: {split}\")\n",
    "\n",
    "input_string = \"CCT\"\n",
    "result, split = process_symbols(input_string)\n",
    "print(f\"Result for '{input_string}': {result} - Split: {split}\")"
   ]
  },
  {
   "cell_type": "code",
   "execution_count": 11,
   "metadata": {},
   "outputs": [],
   "source": [
    "df_.set_index(('Name', '', 'Name'), inplace=True)\n",
    "\n",
    "# Replace unicode characters in the index\n",
    "df_.index = df_.index.str.replace('\\u2640', 'f').str.replace('\\u2642', 'm').str.lower()\n",
    "\n",
    "# Remove special characters and lowercase the index\n",
    "df_.index = df_.index.str.replace('[^A-Za-z0-9]+', '', regex=True)"
   ]
  },
  {
   "cell_type": "code",
   "execution_count": 12,
   "metadata": {},
   "outputs": [
    {
     "name": "stderr",
     "output_type": "stream",
     "text": [
      "/var/folders/67/9rpqzr212xbc567t79k0w7580000gn/T/ipykernel_67115/2975098677.py:4: FutureWarning: Series.__getitem__ treating keys as positions is deprecated. In a future version, integer keys will always be treated as labels (consistent with DataFrame behavior). To access a value by position, use `ser.iloc[pos]`\n",
      "  return series[0]\n"
     ]
    }
   ],
   "source": [
    "# Custom aggregation function to concatenate lists\n",
    "def concatenate_lists(series):\n",
    "    if series.dtype == int:\n",
    "        return series[0]\n",
    "    elif series.dtype == list:\n",
    "        return list(set(sum(series, [])))\n",
    "\n",
    "# Group by index and apply the custom aggregation function\n",
    "df_ = df_.groupby(df_.index).agg(concatenate_lists)\n"
   ]
  },
  {
   "cell_type": "code",
   "execution_count": 13,
   "metadata": {},
   "outputs": [],
   "source": [
    "df_.to_json(\"data/pokemon_availability.json\", orient=\"index\", indent=4)"
   ]
  },
  {
   "cell_type": "code",
   "execution_count": 14,
   "metadata": {},
   "outputs": [],
   "source": [
    "legend.to_json(\"data/availability_legend.json\", orient=\"index\", indent=4)"
   ]
  },
  {
   "cell_type": "code",
   "execution_count": 15,
   "metadata": {},
   "outputs": [],
   "source": [
    "games = []\n",
    "for columns in df_.columns[1:]:\n",
    "    games.append(columns[2])\n",
    "games = pd.DataFrame(games, columns=[\"Game\"])\n",
    "games.to_json(\"data/games.json\", orient=\"index\", indent=4)"
   ]
  },
  {
   "cell_type": "code",
   "execution_count": 16,
   "metadata": {},
   "outputs": [
    {
     "name": "stderr",
     "output_type": "stream",
     "text": [
      "/var/folders/67/9rpqzr212xbc567t79k0w7580000gn/T/ipykernel_67115/1274798945.py:3: FutureWarning: DataFrame.applymap has been deprecated. Use DataFrame.map instead.\n",
      "  game_availability = game_availability.applymap(\n"
     ]
    }
   ],
   "source": [
    "game_availability = pd.read_json(\"data/pokemon_availability.json\", orient=\"index\")\n",
    "legend = pd.read_json(\"data/availability_legend.json\", orient=\"index\")\n",
    "game_availability = game_availability.applymap(\n",
    "    lambda x: (\n",
    "        reduce(operator.or_, [legend.loc[i, \"Availability\"] for i in x])\n",
    "        if isinstance(x, list)\n",
    "        else x\n",
    "    )\n",
    ")\n",
    "\n",
    "if \"Concatenated\" in game_availability.columns:\n",
    "    game_availability.drop(columns=\"Concatenated\", inplace=True)\n",
    "game_availability[\"Concatenated\"] = game_availability.apply(\n",
    "    lambda row: [sublist for sublist in row[1:]], axis=1\n",
    ")\n",
    "game_availability.drop(columns=[col for col in game_availability.columns if col not in [\"Concatenated\", \"('#', '', '#')\"]], inplace=True)\n",
    "game_availability.columns = [\"#\", \"Values\"]\n",
    "game_availability.to_json(\"data/postproc_game_av.json\", orient=\"index\", indent=4)"
   ]
  }
 ],
 "metadata": {
  "kernelspec": {
   "display_name": ".venv",
   "language": "python",
   "name": "python3"
  },
  "language_info": {
   "codemirror_mode": {
    "name": "ipython",
    "version": 3
   },
   "file_extension": ".py",
   "mimetype": "text/x-python",
   "name": "python",
   "nbconvert_exporter": "python",
   "pygments_lexer": "ipython3",
   "version": "3.12.1"
  }
 },
 "nbformat": 4,
 "nbformat_minor": 2
}
